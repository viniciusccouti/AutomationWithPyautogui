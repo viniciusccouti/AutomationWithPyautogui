{
 "cells": [
  {
   "cell_type": "code",
   "execution_count": 2,
   "id": "464f69ac",
   "metadata": {},
   "outputs": [],
   "source": [
    "import pandas as pd\n",
    "import pyautogui as py\n",
    "import time"
   ]
  },
  {
   "cell_type": "code",
   "execution_count": 45,
   "id": "46d8d15e",
   "metadata": {},
   "outputs": [
    {
     "data": {
      "text/html": [
       "<div>\n",
       "<style scoped>\n",
       "    .dataframe tbody tr th:only-of-type {\n",
       "        vertical-align: middle;\n",
       "    }\n",
       "\n",
       "    .dataframe tbody tr th {\n",
       "        vertical-align: top;\n",
       "    }\n",
       "\n",
       "    .dataframe thead th {\n",
       "        text-align: right;\n",
       "    }\n",
       "</style>\n",
       "<table border=\"1\" class=\"dataframe\">\n",
       "  <thead>\n",
       "    <tr style=\"text-align: right;\">\n",
       "      <th></th>\n",
       "      <th>Nome</th>\n",
       "      <th>Email</th>\n",
       "    </tr>\n",
       "  </thead>\n",
       "  <tbody>\n",
       "    <tr>\n",
       "      <th>0</th>\n",
       "      <td>VInicius Coutinho</td>\n",
       "      <td>viniciuscoutinho_@hotmail.com</td>\n",
       "    </tr>\n",
       "    <tr>\n",
       "      <th>1</th>\n",
       "      <td>Maguila Sapiranga</td>\n",
       "      <td>maguiladasapiranga@gmail.com</td>\n",
       "    </tr>\n",
       "  </tbody>\n",
       "</table>\n",
       "</div>"
      ],
      "text/plain": [
       "                Nome                          Email\n",
       "0  VInicius Coutinho  viniciuscoutinho_@hotmail.com\n",
       "1  Maguila Sapiranga   maguiladasapiranga@gmail.com"
      ]
     },
     "metadata": {},
     "output_type": "display_data"
    }
   ],
   "source": [
    "tabela = pd.read_excel('teste _ lista.xlsx')\n",
    "display(tabela)"
   ]
  },
  {
   "cell_type": "code",
   "execution_count": 44,
   "id": "80bc18ee",
   "metadata": {},
   "outputs": [],
   "source": [
    "for index,row in tabela.iterrows():\n",
    "    time.sleep(1)\n",
    "    py.click(3864,-142) \n",
    "    time.sleep(2)\n",
    "    \n",
    "    py.click(3113,-252) \n",
    "    time.sleep(0.5)\n",
    "    py.write(row['Nome'])  \n",
    "    time.sleep(0.5)\n",
    "    py.press('tab')\n",
    "    \n",
    "    py.write(row['Email']) \n",
    "    py.click(3303,24)\n",
    "    time.sleep(5)"
   ]
  }
 ],
 "metadata": {
  "kernelspec": {
   "display_name": "Python 3 (ipykernel)",
   "language": "python",
   "name": "python3"
  },
  "language_info": {
   "codemirror_mode": {
    "name": "ipython",
    "version": 3
   },
   "file_extension": ".py",
   "mimetype": "text/x-python",
   "name": "python",
   "nbconvert_exporter": "python",
   "pygments_lexer": "ipython3",
   "version": "3.9.18"
  }
 },
 "nbformat": 4,
 "nbformat_minor": 5
}
